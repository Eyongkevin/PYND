{
 "cells": [
  {
   "cell_type": "markdown",
   "metadata": {},
   "source": [
    "# Putting text on image using Python\n",
    "We will be using the extension library `pillow` to draw text on an image. We shall use the following classes from pillow:\n",
    "- Image : to create an image object for our text \n",
    "- ImageDraw: to create a drawing context\n",
    "- ImageFont: font of the text we will be drawing on the image"
   ]
  },
  {
   "cell_type": "code",
   "execution_count": 43,
   "metadata": {
    "collapsed": true
   },
   "outputs": [],
   "source": [
    "from PIL import Image, ImageDraw, ImageFont"
   ]
  },
  {
   "cell_type": "code",
   "execution_count": 44,
   "metadata": {
    "collapsed": true
   },
   "outputs": [],
   "source": [
    "#create image object from the input image path\n",
    "try:\n",
    "    image = Image.open('./xander_2.jpg')\n",
    "    # Initialize the drawing context \n",
    "    draw = ImageDraw.Draw(image)\n",
    "    \n",
    "except IOError as e:\n",
    "    print(e)\n",
    "#image.show()\n"
   ]
  },
  {
   "cell_type": "code",
   "execution_count": 45,
   "metadata": {
    "collapsed": true
   },
   "outputs": [],
   "source": [
    "# Create font object with the font file and specify desired size\n",
    "font_path = 'font/arialbd.ttf'\n",
    "font = ImageFont.truetype(font=font_path, size=20)"
   ]
  },
  {
   "cell_type": "code",
   "execution_count": 46,
   "metadata": {
    "collapsed": true
   },
   "outputs": [],
   "source": [
    "# Starting position of the message\n",
    "(x, y) = (50, 50)\n",
    "message = 'Hello World!'\n",
    "color = 'rgb(0,0,0)'  #black color\n",
    "\n",
    "# Draw the message on the background\n",
    "draw.text((x, y), message,  font=font)\n",
    "# Save image with reduced quality but smaller size\n",
    "image.save('captioned.png', optimize=True, quality=20)"
   ]
  },
  {
   "cell_type": "code",
   "execution_count": null,
   "metadata": {
    "collapsed": true
   },
   "outputs": [],
   "source": []
  }
 ],
 "metadata": {
  "kernelspec": {
   "display_name": "Python 3",
   "language": "python",
   "name": "python3"
  },
  "language_info": {
   "codemirror_mode": {
    "name": "ipython",
    "version": 3
   },
   "file_extension": ".py",
   "mimetype": "text/x-python",
   "name": "python",
   "nbconvert_exporter": "python",
   "pygments_lexer": "ipython3",
   "version": "3.6.9"
  }
 },
 "nbformat": 4,
 "nbformat_minor": 2
}
