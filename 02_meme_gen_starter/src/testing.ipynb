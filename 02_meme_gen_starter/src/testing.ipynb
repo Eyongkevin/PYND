{
 "cells": [
  {
   "cell_type": "code",
   "execution_count": 29,
   "metadata": {
    "collapsed": true
   },
   "outputs": [],
   "source": [
    "import csv\n",
    "from typing import List"
   ]
  },
  {
   "cell_type": "code",
   "execution_count": 14,
   "metadata": {},
   "outputs": [
    {
     "name": "stdout",
     "output_type": "stream",
     "text": [
      "[['Chase the mailman', 'Skittle'], ['When in doubt, go shoe-shopping', 'Mr. Paws']]\n"
     ]
    }
   ],
   "source": [
    "with open('./_data/DogQuotes/DogQuotesCSV.csv') as f:\n",
    "    read = csv.reader(f)\n",
    "    print(list(read)[1:])"
   ]
  },
  {
   "cell_type": "code",
   "execution_count": 22,
   "metadata": {
    "collapsed": true
   },
   "outputs": [],
   "source": [
    "class QuoteModel:\n",
    "    def __init__(self, body, author):\n",
    "        self._body = body\n",
    "        self._author = author\n",
    "    \n",
    "    def __call__(self):\n",
    "        return (self._body +' - ' + self._author)"
   ]
  },
  {
   "cell_type": "code",
   "execution_count": 23,
   "metadata": {},
   "outputs": [
    {
     "data": {
      "text/plain": [
       "'hell - ss'"
      ]
     },
     "execution_count": 23,
     "metadata": {},
     "output_type": "execute_result"
    }
   ],
   "source": [
    "QuoteModel('hell','ss')()"
   ]
  },
  {
   "cell_type": "code",
   "execution_count": 37,
   "metadata": {},
   "outputs": [],
   "source": [
    "def parse(path: str) -> List[QuoteModel]:\n",
    "        body_author_list = []\n",
    "        with open(path, 'r') as f:\n",
    "            read = csv.reader(f)\n",
    "            for item in list(read)[1:]:\n",
    "                body_author_list.append(QuoteModel(*item))\n",
    "        return body_author_list"
   ]
  },
  {
   "cell_type": "code",
   "execution_count": 39,
   "metadata": {},
   "outputs": [],
   "source": [
    "path = './_data/DogQuotes/DogQuotesCSV.csv'\n",
    "obj = parse(path)"
   ]
  },
  {
   "cell_type": "code",
   "execution_count": 40,
   "metadata": {},
   "outputs": [
    {
     "name": "stdout",
     "output_type": "stream",
     "text": [
      "Chase the mailman - Skittle\n",
      "When in doubt, go shoe-shopping - Mr. Paws\n"
     ]
    }
   ],
   "source": [
    "for i in obj:\n",
    "    print(i())"
   ]
  },
  {
   "cell_type": "code",
   "execution_count": null,
   "metadata": {
    "collapsed": true
   },
   "outputs": [],
   "source": []
  }
 ],
 "metadata": {
  "kernelspec": {
   "display_name": "Python 3",
   "language": "python",
   "name": "python3"
  },
  "language_info": {
   "codemirror_mode": {
    "name": "ipython",
    "version": 3
   },
   "file_extension": ".py",
   "mimetype": "text/x-python",
   "name": "python",
   "nbconvert_exporter": "python",
   "pygments_lexer": "ipython3",
   "version": "3.6.9"
  }
 },
 "nbformat": 4,
 "nbformat_minor": 2
}
